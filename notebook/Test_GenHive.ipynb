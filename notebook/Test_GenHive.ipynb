{
  "cells": [
    {
      "cell_type": "markdown",
      "id": "ce267ebc-0d1d-49d5-9f90-26510ce3107f",
      "metadata": {
        "id": "ce267ebc-0d1d-49d5-9f90-26510ce3107f"
      },
      "source": [
        "### Importing Libraries"
      ]
    },
    {
      "cell_type": "code",
      "execution_count": null,
      "id": "ZfJYH8oqG_NM",
      "metadata": {
        "colab": {
          "base_uri": "https://localhost:8080/"
        },
        "id": "ZfJYH8oqG_NM",
        "outputId": "08ecca67-4557-4a8b-c12b-5642dc3eabc1"
      },
      "outputs": [
        {
          "name": "stdout",
          "output_type": "stream",
          "text": [
            "Mounted at /content/drive\n"
          ]
        }
      ],
      "source": [
        "# import drive\n",
        "from google.colab import drive\n",
        "drive.mount('/content/drive')"
      ]
    },
    {
      "cell_type": "code",
      "execution_count": null,
      "id": "bb062bfb-053b-4c4e-b74d-3b940901aea3",
      "metadata": {
        "id": "bb062bfb-053b-4c4e-b74d-3b940901aea3"
      },
      "outputs": [],
      "source": [
        "import os\n",
        "import librosa\n",
        "import numpy as np\n",
        "import tensorflow as tf\n",
        "import matplotlib.pyplot as plt\n",
        "import seaborn as sns\n",
        "from tensorflow.image import resize"
      ]
    },
    {
      "cell_type": "code",
      "execution_count": null,
      "id": "1aa0319f-b720-4374-9270-61a5de33df81",
      "metadata": {
        "colab": {
          "base_uri": "https://localhost:8080/"
        },
        "id": "1aa0319f-b720-4374-9270-61a5de33df81",
        "outputId": "5bdb014d-3346-49ac-a7c6-e9785ef27ae5"
      },
      "outputs": [
        {
          "name": "stderr",
          "output_type": "stream",
          "text": [
            "WARNING:absl:Compiled the loaded model, but the compiled metrics have yet to be built. `model.compile_metrics` will be empty until you train or evaluate the model.\n"
          ]
        }
      ],
      "source": [
        "#Loading Model\n",
        "model = tf.keras.models.load_model(\"./drive/MyDrive/ML_Project/GenHive_model.h5\")"
      ]
    },
    {
      "cell_type": "code",
      "execution_count": null,
      "id": "e1a189f2-8285-4597-8273-ca7653bd8aa4",
      "metadata": {
        "id": "e1a189f2-8285-4597-8273-ca7653bd8aa4"
      },
      "outputs": [],
      "source": [
        "classes = ['alternative_indie', 'edm','jpop','kpop','pop','rnb','rock','trap_hip-hop']"
      ]
    },
    {
      "cell_type": "markdown",
      "id": "7f8ab4fb-24f4-4754-8d12-9d95695e80a0",
      "metadata": {
        "id": "7f8ab4fb-24f4-4754-8d12-9d95695e80a0"
      },
      "source": [
        "### Single Audio Preprocessing"
      ]
    },
    {
      "cell_type": "code",
      "execution_count": null,
      "id": "842e9eb7-a2d9-4af4-8817-bc3abc85490b",
      "metadata": {
        "id": "842e9eb7-a2d9-4af4-8817-bc3abc85490b"
      },
      "outputs": [],
      "source": [
        "# Load and preprocess audio data\n",
        "def load_and_preprocess_data(file_path, target_shape=(150, 150)):\n",
        "    data = []\n",
        "    audio_data, sample_rate = librosa.load(file_path, sr=None)\n",
        "    # Perform preprocessing (e.g., convert to Mel spectrogram and resize)\n",
        "    # Define the duration of each chunk and overlap\n",
        "    chunk_duration = 4  # seconds\n",
        "    overlap_duration = 2  # seconds\n",
        "\n",
        "    # Convert durations to samples\n",
        "    chunk_samples = chunk_duration * sample_rate\n",
        "    overlap_samples = overlap_duration * sample_rate\n",
        "\n",
        "    # Calculate the number of chunks\n",
        "    num_chunks = int(np.ceil((len(audio_data) - chunk_samples) / (chunk_samples - overlap_samples))) + 1\n",
        "\n",
        "    # Iterate over each chunk\n",
        "    for i in range(num_chunks):\n",
        "                    # Calculate start and end indices of the chunk\n",
        "        start = i * (chunk_samples - overlap_samples)\n",
        "        end = start + chunk_samples\n",
        "\n",
        "                    # Extract the chunk of audio\n",
        "        chunk = audio_data[start:end]\n",
        "\n",
        "                    # Compute the Mel spectrogram for the chunk\n",
        "        mel_spectrogram = librosa.feature.melspectrogram(y=chunk, sr=sample_rate)\n",
        "\n",
        "                #mel_spectrogram = librosa.feature.melspectrogram(y=audio_data, sr=sample_rate)\n",
        "        mel_spectrogram = resize(np.expand_dims(mel_spectrogram, axis=-1), target_shape)\n",
        "        data.append(mel_spectrogram)\n",
        "\n",
        "    return np.array(data)"
      ]
    },
    {
      "cell_type": "markdown",
      "id": "e2e5d070-9086-4aea-bf87-40ce660975cb",
      "metadata": {
        "id": "e2e5d070-9086-4aea-bf87-40ce660975cb"
      },
      "source": [
        "### Playing a sound"
      ]
    },
    {
      "cell_type": "code",
      "execution_count": null,
      "id": "1bc312e2-19bd-44cb-8ae1-baaead4846a4",
      "metadata": {
        "colab": {
          "background_save": true
        },
        "id": "1bc312e2-19bd-44cb-8ae1-baaead4846a4",
        "outputId": "27206def-28ad-436f-996f-a8dd4b2a601d"
      },
      "outputs": [],
      "source": [
        "from IPython.display import Audio\n",
        "file_path = \"./drive/MyDrive/ML_Project/utomp3.com - 50 Cent  In Da Club Official Music Video.mp3\"\n",
        "y, sr = librosa.load(file_path, sr=44100)\n",
        "Audio(data=y, rate=sr)"
      ]
    },
    {
      "cell_type": "code",
      "execution_count": null,
      "id": "35d8c831-89d3-482a-9c16-dca9b005a893",
      "metadata": {
        "colab": {
          "background_save": true
        },
        "id": "35d8c831-89d3-482a-9c16-dca9b005a893"
      },
      "outputs": [],
      "source": [
        "#Processing Test File\n",
        "X_test = load_and_preprocess_data(file_path)"
      ]
    },
    {
      "cell_type": "markdown",
      "id": "10cfe79f-cbd1-4f54-9f79-3e17256a55a4",
      "metadata": {
        "id": "10cfe79f-cbd1-4f54-9f79-3e17256a55a4"
      },
      "source": [
        "### Model Prediction"
      ]
    },
    {
      "cell_type": "code",
      "execution_count": null,
      "id": "b6e3c708-3604-4c2a-876e-f9dcb63ff361",
      "metadata": {
        "colab": {
          "background_save": true
        },
        "id": "b6e3c708-3604-4c2a-876e-f9dcb63ff361"
      },
      "outputs": [],
      "source": [
        "#Model Prediction\n",
        "def model_prediction(X_test):\n",
        "    y_pred = model.predict(X_test)\n",
        "    predicted_categories = np.argmax(y_pred,axis=1)\n",
        "    unique_elements, counts = np.unique(predicted_categories, return_counts=True)\n",
        "    #print(unique_elements, counts)\n",
        "    max_count = np.max(counts)\n",
        "    max_elements = unique_elements[counts == max_count]\n",
        "    return max_elements[0]"
      ]
    },
    {
      "cell_type": "code",
      "execution_count": null,
      "id": "661374df-ce68-4ab6-a83a-6561a61ecaa9",
      "metadata": {
        "id": "661374df-ce68-4ab6-a83a-6561a61ecaa9"
      },
      "outputs": [],
      "source": [
        "#Model Prediction\n",
        "c_index = model_prediction(X_test)\n",
        "print(f\"Model Prediction :: Music Genre --> {classes[c_index]}\")"
      ]
    },
    {
      "cell_type": "code",
      "execution_count": null,
      "id": "f92cfc42-ffc5-4d8e-a6fd-c2350b75dd7b",
      "metadata": {
        "id": "f92cfc42-ffc5-4d8e-a6fd-c2350b75dd7b"
      },
      "outputs": [],
      "source": []
    }
  ],
  "metadata": {
    "colab": {
      "provenance": []
    },
    "kernelspec": {
      "display_name": "Python 3 (ipykernel)",
      "language": "python",
      "name": "python3"
    },
    "language_info": {
      "codemirror_mode": {
        "name": "ipython",
        "version": 3
      },
      "file_extension": ".py",
      "mimetype": "text/x-python",
      "name": "python",
      "nbconvert_exporter": "python",
      "pygments_lexer": "ipython3",
      "version": "3.12.6"
    }
  },
  "nbformat": 4,
  "nbformat_minor": 5
}